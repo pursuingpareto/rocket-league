{
 "cells": [
  {
   "cell_type": "markdown",
   "metadata": {},
   "source": [
    "# Mappings\n",
    "\n",
    "* String versions of integers are used to keep track of spawn, update, and destroy.\n",
    "* When an actor is spawned it is given a `Class`, a `Name`, and optionally a `Position` and `Rotation`\n",
    "\n",
    "### Player IDs\n",
    "Actors with class `TAGame.PRI_TA` (player replication info) have the key associated with the actor, but also have `actor[\"Engine.PlayerReplicationInfo:PlayerID\"][\"Value\"]`, `actor[\"Engine.PlayerReplicationInfo:UniqueId\"][\"Value\"][\"Local\"]` and `actor[\"Engine.PlayerReplicationInfo:UniqueId\"][\"Value\"][\"Remote\"][\"Value\"]`\n",
    "\n",
    "**`Engine.PlayerReplicationInfo:PlayerID`** is an ID that persists throughout game.\n",
    "\n",
    "**I still don't know what these other IDs mean, but maybe have something to do with persistence across demos / goals**\n",
    "\n",
    "### Players to Teams\n",
    "Actors with class `TAGame.PRI_TA` (player replication info) are mapped to actors of class `TAGame.Team_Soccar_TA` (teams) through `actor[\"Engine.PlayerReplicationInfo:Team\"][\"Value\"][\"Int\"]\n",
    "\n",
    "### Cars to Players\n",
    "Actors with class `TAGame.Car_TA` (cars) are mapped to actors of class `TAGame.PRI_TA` (player replication info) through `actor[\"Engine.Pawn:PlayerReplicationInfo\"][\"Value\"][\"Int\"]`\n",
    "\n",
    "### Boost, Jump, Dodge, etc... to Car\n",
    "This applies to classes matching `actor[\"Class\"] == TAGame.CarComponent_*` where `*` can be: `FlipCar_TA`, `Dodge_TA`, `Jump_TA`, `DoubleJump_TA`, `Boost_TA`.\n",
    "\n",
    "Matching is done through the field `actor[\"TAGame.CarComponent_TA:Vehicle\"][\"Value\"][\"Int\"]` the value of which will be an integer, the stringified version of which identifies the corresponding actor with class `TAGame.Car_TA`.\n",
    "\n",
    "### Teams to Game Type\n",
    "Actors with class `TAGame.Team_Soccar_TA` (teams) are mapped to actors of class `TAGame.GameEvent_Soccar_TA` through `actor[\"TAGame.Team_TA:GameEvent\"][\"Value\"][\"Int\"]`\n",
    "\n",
    "\n",
    "# Actor Life Cycle\n"
   ]
  },
  {
   "cell_type": "markdown",
   "metadata": {},
   "source": [
    "## Updated Keys Described\n",
    "* `ProjectX.GRI_X:Reservations` under `Value`, there will be a `LocalId`, `Name`, and `RemoteId`\n",
    "* `TAGame.RBActor_TA:ReplicatedRBState` under `Value` is `AngularVelocity`, `LinearVelocity`, `Position`, `Rotation` and `Sleeping`\n",
    "* `TAGame.Ball_TA:GameEvent` the dict with this key may have the above (ReplicatedRBState) key as well. \n",
    "* `ProjectX.GRI_X:GameServerID` the dict with this key may also have info about `Engine.GameReplicationInfo:GameClass`, `Engine.GameReplicationInfo:ServerName`, `ProjectX.GRI_X:GameServerID`, `ProjectX.GRI_X:ReplicatedGamePlaylist`, `ProjectX.GRI_X:bGameStarted`, and `ProjectX.GRI_X:Reservations`\n",
    "* `Engine.PlayerReplicationInfo:PlayerID` may also have after last colon `Ping`, `PlayerName`, `Team`, `UniqueId`\n",
    "* `TAGame.GameEvent_Soccar_TA:SecondsRemaining` may also have keys about `BotSkill` and `MaxTeamSize`.\n",
    "\n",
    "## Spawned Keys Described\n",
    "* `Engine.Pawn:PlayerReplicationInfo` under `Value` then `Int` is (I think) a mapping from a car to a player.\n",
    "* Under `Name` there are some options:\n",
    "  * `Archetypes.Car.Car_Default`\n",
    "  * `Archetypes.Ball.Ball_Default`\n",
    "  * `TAGame.Default__CameraSettingsActor_TA`\n",
    "  * `Archetypes.CarComponents.CarComponent_Boost`\n",
    "  * `Archetypes.CarComponents.CarComponent_Jump`\n",
    "  * `TAGame.Default__PRI_TA`\n",
    "  * `Archetypes.CarComponents.CarComponent_Dodge`\n",
    "  * `Archetypes.CarComponents.CarComponent_FlipCar`\n",
    "  * `Archetypes.GameEvent.GameEvent_Soccar`\n",
    "  * `GameInfo_Soccar.GameInfo.GameInfo_Soccar:GameReplicationInfoArchetype`\n",
    "  * `Archetypes.Teams.Team1`\n",
    "  * `Archetypes.Teams.Team0`\n",
    "  * `Archetypes.CarComponents.CarComponent_DoubleJump`\n",
    "\n",
    "### Player IDs\n",
    "```\n",
    "{u'Engine.PlayerReplicationInfo:PlayerID': {u'Type': u'Int', u'Value': 401},\n",
    " u'Engine.PlayerReplicationInfo:PlayerName': {u'Type': u'String',\n",
    "  u'Value': u'maximumbob'},\n",
    " u'Engine.PlayerReplicationInfo:Team': {u'Type': u'FlaggedInt',\n",
    "  u'Value': {u'Flag': True, u'Int': 4}},\n",
    " u'Engine.PlayerReplicationInfo:UniqueId': {u'Type': u'UniqueId',\n",
    "  u'Value': {u'Local': 0,\n",
    "   u'Remote': {u'Type': u'Steam', u'Value': 76561197968514024},\n",
    "   u'System': u'Steam'}},\n",
    " u'TAGame.PRI_TA:Title': {u'Type': u'Int', u'Value': 1}\n",
    "}\n",
    "```\n",
    "There appear to be at least 3 IDs (`Engine.PlayerReplicationInfo:PlayerID`, `...:UniqueId...Local`, and `...:UniqueId...Remote`"
   ]
  },
  {
   "cell_type": "code",
   "execution_count": null,
   "metadata": {
    "collapsed": true
   },
   "outputs": [],
   "source": []
  }
 ],
 "metadata": {
  "kernelspec": {
   "display_name": "Python 2",
   "language": "python",
   "name": "python2"
  },
  "language_info": {
   "codemirror_mode": {
    "name": "ipython",
    "version": 2
   },
   "file_extension": ".py",
   "mimetype": "text/x-python",
   "name": "python",
   "nbconvert_exporter": "python",
   "pygments_lexer": "ipython2",
   "version": "2.7.10"
  }
 },
 "nbformat": 4,
 "nbformat_minor": 0
}
