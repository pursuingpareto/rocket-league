{
 "cells": [
  {
   "cell_type": "markdown",
   "metadata": {},
   "source": [
    "\n",
    "# Analyzing Kickoffs\n",
    "## Overview (no code)\n",
    "### Goal\n",
    "For each of the possible 2 v 2 kickoff configurations on a standard map, identify the success of various strategies (for example, on corners should one person stay back? Should both boost at full speed?)\n",
    "\n",
    "### Kickoff Positions and Configurations \n",
    "#### Positions\n",
    "There are 5 possible locations that an individual can be placed in for a kickoff on a standard map.\n",
    "\n",
    "```\n",
    "   #####    \n",
    "     1  \n",
    "   3   2\n",
    " 5       4\n",
    " \n",
    "     *\n",
    "     \n",
    " 4       5\n",
    "   2   3\n",
    "     1\n",
    "   #####\n",
    "```\n",
    "\n",
    "#### Configurations\n",
    "Of these five possible locations, there could be 10 possible combinations of 2 player starts but some of these do not happen in real games. The configurations that do happen are the following:\n",
    "\n",
    "* **Corners**: `4 | 5`\n",
    "* **Back Symmetric**:  `2 | 3`\n",
    "* **Back Left / Right**: `1 | 2/3` \n",
    "* **Front Back Left/Right**: `1 | 4/5` \n",
    "\n",
    "### Kickoff Actions\n",
    "There are a few categories of actions, each of which have different nuanced possibilities.\n",
    "\n",
    "#### 1. Attack Actions\n",
    "Player drives straight (approximately) towards the ball\n",
    "1. **Boost + Forward Dodge**\n",
    "2. **Boost + Diagonal Dodge**\n",
    "3. **Boost only**\n",
    "4. **Forward Dodge only**\n",
    "5. **Diagonal Dodge only**\n",
    "6. **No boost or dodge**\n",
    "\n",
    "#### 2. Defense Actions\n",
    "Player backs up or remains in close proximity to goal.\n",
    "1. **In Net**: a player moves to or stays in close proximity (~ a couple car lengths) to goal.\n",
    "2. **Cheating**: a player stays back but more than a few car lengths from goal.\n",
    "\n",
    "#### 3. Boost Actions\n",
    "Player immediately gets a boost orb\n",
    "1. **Corner Boost**\n",
    "2. **Middle Boost**\n",
    "\n",
    "#### 4. Other Actions\n",
    "These are actions that don't fit into other categories.\n",
    "1. **AFK**: Player does nothing.\n",
    "2. **Deception**: Player might approach ball and then veer away so teammate can hit for example.\n",
    "\n",
    "----\n",
    "\n",
    "## Implementation\n",
    "### High Level Steps\n",
    "1. From a replay file, identify all of the frames where kickoffs begin\n",
    "2. For each kickoff, identify the starting configuration (e.g. `1|2` or `4|5`)\n",
    "3. Check to see if a goal is scored with **T_min** seconds, if so...\n",
    "4. Identify the **kickoff action** used by each player on each team. Increment the win count for the corresponding data field (see next section) by one\n",
    "\n",
    "### Data Structure\n",
    "For *a particular configuration* I am interested in seeing how often *a particular kickoff strategy* wins or loses. It will be helpful to be able to group these by skill level as well. For example:\n",
    "\n",
    "```python\n",
    "strats = {\n",
    "  # There would be one \"strat\" for each possible configuration type\n",
    "  \"configuration\" : \"corners\",\n",
    "  \"actions\" : {\n",
    "    # There would be one action for each possibility\n",
    "    (\"attack|boost\", \"attack|boost\") : {\n",
    "      \"count\" : 231,\n",
    "      \"quick_wins\" : 20,\n",
    "      \"quick_losses\" : 17,\n",
    "      \"history\" : [\n",
    "        # There would be 231 of these...\n",
    "        {\n",
    "          \"avg_skill\": 2019,\n",
    "          \"opponent_action\" : (\"attack|boost\", \"boost|corner\")\n",
    "          \"outcome\": \"quick_win\"\n",
    "        },\n",
    "      ]\n",
    "    }\n",
    "  },\n",
    "}\n",
    "```\n",
    "\n"
   ]
  },
  {
   "cell_type": "code",
   "execution_count": null,
   "metadata": {
    "collapsed": true
   },
   "outputs": [],
   "source": [
    "def analyze_kickoffs(replay, T_max=6):\n",
    "    \"\"\"Get summary data for the kickoffs in a replay.\n",
    "    \n",
    "    Arguments:\n",
    "    replay -- A JSON replay of a game.\n",
    "    T_max  -- A goal must be scored within T_max seconds in order\n",
    "      to be counted as a \"quick win\"\n",
    "    \"\"\"\n",
    "    avg_skill = get_average_skill(replay)\n",
    "    goal_frames = get_goal_frames(replay, T_max)\n",
    "    kickoff_frames = get_kickoff_frames(replay, T_max)\n",
    "    kickoff_goal_pairs = zip(kickoff_frames, goal_frames) # TODO : This implementation will not work for last kickoff\n",
    "    frame_max = T_max * 30\n",
    "    for KOF, GF in kickoff_goal_pairs:\n",
    "        \n",
    "    "
   ]
  },
  {
   "cell_type": "code",
   "execution_count": null,
   "metadata": {
    "collapsed": true
   },
   "outputs": [],
   "source": [
    "def get_kickoffs(replay, T_max=6):\n",
    "    pass"
   ]
  },
  {
   "cell_type": "code",
   "execution_count": 1,
   "metadata": {
    "collapsed": false
   },
   "outputs": [
    {
     "data": {
      "text/plain": [
       "[(1, 4), (2, 5)]"
      ]
     },
     "execution_count": 1,
     "metadata": {},
     "output_type": "execute_result"
    }
   ],
   "source": [
    "a = [1,2,3]\n",
    "b = [4,5]\n",
    "zip(a,b)"
   ]
  },
  {
   "cell_type": "code",
   "execution_count": null,
   "metadata": {
    "collapsed": true
   },
   "outputs": [],
   "source": []
  }
 ],
 "metadata": {
  "kernelspec": {
   "display_name": "Python 2",
   "language": "python",
   "name": "python2"
  },
  "language_info": {
   "codemirror_mode": {
    "name": "ipython",
    "version": 2
   },
   "file_extension": ".py",
   "mimetype": "text/x-python",
   "name": "python",
   "nbconvert_exporter": "python",
   "pygments_lexer": "ipython2",
   "version": "2.7.10"
  }
 },
 "nbformat": 4,
 "nbformat_minor": 0
}
